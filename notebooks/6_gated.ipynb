{
 "cells": [
  {
   "cell_type": "code",
   "execution_count": 1,
   "metadata": {},
   "outputs": [],
   "source": [
    "from src.environment import NormalMoveGatedEnv\n",
    "from src.experiment import Experiment\n",
    "from src.nn import BetaModel, Model, GeneralModel\n",
    "from src.rl import Agent, Trajectory\n",
    "\n",
    "import numpy as np\n",
    "import pandas as pd\n",
    "import matplotlib.pyplot as plt\n",
    "import math\n",
    "\n",
    "%matplotlib agg\n",
    "# cmd -> cd .\\notebooks\\\n",
    "# cmd -> mlflow ui"
   ]
  },
  {
   "cell_type": "code",
   "execution_count": 2,
   "metadata": {},
   "outputs": [],
   "source": [
    "experiment_name = 'Gated Envs'\n",
    "experiment_description = 'Comparação entre uso de n modelos com o uso de um modelo generalista em um mesmo ambiente com portas'\n",
    "num_runs = 5\n",
    "num_episodes = 1"
   ]
  },
  {
   "cell_type": "code",
   "execution_count": 3,
   "metadata": {},
   "outputs": [
    {
     "name": "stdout",
     "output_type": "stream",
     "text": [
      "experiment_name: Gated Envs\n",
      "experiment_id: 902287542146906075\n"
     ]
    }
   ],
   "source": [
    "import mlflow\n",
    "from mlflow import MlflowException\n",
    "\n",
    "try:\n",
    "    exp_id = mlflow.create_experiment(experiment_name, tags={'mlflow.note.content':experiment_description})\n",
    "    exp = mlflow.get_experiment(exp_id)\n",
    "except MlflowException as e:\n",
    "    exp = mlflow.get_experiment_by_name(experiment_name)\n",
    "    exp_id = exp.experiment_id\n",
    "\n",
    "print('experiment_name:', experiment_name)\n",
    "print('experiment_id:', exp_id)"
   ]
  },
  {
   "cell_type": "code",
   "execution_count": 4,
   "metadata": {},
   "outputs": [],
   "source": [
    "start = ([0.,-9.9],[9.9,-5.])\n",
    "goals = [([-9.,8.],[-8.,9.])]\n",
    "env_params= env_params = {\n",
    "    'walls': [([-8.,-1.],[10., 1.]), ([-1.,-8.],[1., 8.])],\n",
    "    'goals': [([2.,2.],[3.,3.])],\n",
    "    'start': ([7.,-9.9],[9.9,-7.]),\n",
    "    'gates': [([-1.,-10.],[1., -8.]), ([-10.,-1.],[-8., 1.]), ([-1.,8.],[1., 10.])],\n",
    "    'buttons': [([2.,-3.],[3.,-2.]), ([-3.,-3.],[-2.,-2.]), ([-3.,2.],[-2.,3.])],\n",
    "    'beta': lambda s: (s[0]>0 and s[1]<0) or (s[0]<0 and s[1]>0)\n",
    "}\n",
    "model_params = {\n",
    "    \"lr\":1e-6, \n",
    "    'momentum':.9,\n",
    "    'td_model_steps': 10, \n",
    "    'memory_size': 0, \n",
    "    'max_plan_size': 100, \n",
    "}\n",
    "k_model_params = {\n",
    "    'k':5, \n",
    "    'model': Model\n",
    "}\n",
    "general_params = {\n",
    "    'model': GeneralModel\n",
    "}"
   ]
  },
  {
   "cell_type": "code",
   "execution_count": 5,
   "metadata": {},
   "outputs": [],
   "source": [
    "def gen_env():\n",
    "    mlflow.log_params(env_params)\n",
    "    env = NormalMoveGatedEnv(**env_params)\n",
    "    mlflow.log_figure(env.plot().get_figure(), f\"env.png\")\n",
    "    return env\n",
    "\n",
    "def run(model, params, episode_size_limit=1000):\n",
    "    model.reset()\n",
    "    mlflow.log_params(model_params)\n",
    "    mlflow.log_params(params)\n",
    "    model.episode(size_limit=episode_size_limit)\n",
    "    \n",
    "    mlflow.log_figure(model.plot(kind='probs'), \"probs.png\")\n",
    "    mlflow.log_figure(model.plot(), \"params.png\")\n",
    "    for plan_id, plan in enumerate(model.plans):\n",
    "        mlflow.log_figure(model.plot(kind='plan', plan=plan_id), f\"plans/plan-{plan_id:03d}.png\")\n",
    "\n",
    "    mlflow.log_metric(\"Trajectory Size\", model.trajectory.run.shape[0])\n",
    "    mlflow.log_metric(\"Final Likelyhood\", model.lls[-1])"
   ]
  },
  {
   "cell_type": "code",
   "execution_count": 6,
   "metadata": {},
   "outputs": [
    {
     "name": "stderr",
     "output_type": "stream",
     "text": [
      "C:\\Users\\guilherme.albarrans\\Workspace\\kmbrl\\src\\rl.py:321: RuntimeWarning: More than 20 figures have been opened. Figures created through the pyplot interface (`matplotlib.pyplot.figure`) are retained until explicitly closed and may consume too much memory. (To control this warning, see the rcParam `figure.max_open_warning`). Consider using `matplotlib.pyplot.close()`.\n",
      "  fig, ax = plt.subplots(figsize=(5, 5))\n"
     ]
    },
    {
     "name": "stdout",
     "output_type": "stream",
     "text": [
      "-------Erro no Treinamento-----------\n",
      "Parametros estimados para cada estado.\n"
     ]
    }
   ],
   "source": [
    "for i in range(num_runs):\n",
    "    with mlflow.start_run(experiment_id=exp_id, run_name=f'{i}'):\n",
    "        env = gen_env()\n",
    "        k_models = Agent(env, **k_model_params, **model_params)\n",
    "        general = Agent(env, **general_params, **model_params)\n",
    "        for e in range(num_episodes):\n",
    "            with mlflow.start_run(experiment_id=exp_id, run_name=f'epi-{e}', nested=True):\n",
    "                with mlflow.start_run(experiment_id=exp_id, run_name='K-Models', nested=True):\n",
    "                    mlflow.log_param(\"run\", i)\n",
    "                    mlflow.log_param(\"episode\", e)\n",
    "                    mlflow.log_figure(env.plot().get_figure(), f\"env.png\")\n",
    "                    run(k_models, k_model_params)\n",
    "                with mlflow.start_run(experiment_id=exp_id, run_name='General', nested=True):\n",
    "                    mlflow.log_param(\"run\", i)\n",
    "                    mlflow.log_param(\"episode\", e)\n",
    "                    mlflow.log_figure(env.plot().get_figure(), f\"env.png\")\n",
    "                    run(general, general_params)"
   ]
  }
 ],
 "metadata": {
  "kernelspec": {
   "display_name": "RL",
   "language": "python",
   "name": "python3"
  },
  "language_info": {
   "codemirror_mode": {
    "name": "ipython",
    "version": 3
   },
   "file_extension": ".py",
   "mimetype": "text/x-python",
   "name": "python",
   "nbconvert_exporter": "python",
   "pygments_lexer": "ipython3",
   "version": "3.9.13"
  },
  "orig_nbformat": 4
 },
 "nbformat": 4,
 "nbformat_minor": 2
}

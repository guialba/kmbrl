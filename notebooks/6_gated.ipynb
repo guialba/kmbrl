{
 "cells": [
  {
   "cell_type": "code",
   "execution_count": 1,
   "metadata": {},
   "outputs": [],
   "source": [
    "from src.environment import NormalMoveGatedEnv\n",
    "from src.experiment import Experiment\n",
    "from src.nn import BetaModel, Model, GeneralModel\n",
    "from src.rl import Agent, Trajectory\n",
    "\n",
    "import numpy as np\n",
    "import pandas as pd\n",
    "import matplotlib.pyplot as plt\n",
    "import math\n",
    "\n",
    "%matplotlib agg\n",
    "# cmd -> cd .\\notebooks\\\n",
    "# cmd -> mlflow ui"
   ]
  },
  {
   "cell_type": "code",
   "execution_count": 2,
   "metadata": {},
   "outputs": [],
   "source": [
    "experiment_name = 'Gated Envs'\n",
    "experiment_description = 'Comparação entre uso de n modelos com o uso de um modelo generalista em um mesmo ambiente com portas'\n",
    "num_runs = 5\n",
    "num_episodes = 1"
   ]
  },
  {
   "cell_type": "code",
   "execution_count": 3,
   "metadata": {},
   "outputs": [
    {
     "name": "stdout",
     "output_type": "stream",
     "text": [
      "experiment_name: Gated Envs\n",
      "experiment_id: 902287542146906075\n"
     ]
    }
   ],
   "source": [
    "import mlflow\n",
    "from mlflow import MlflowException\n",
    "\n",
    "try:\n",
    "    exp_id = mlflow.create_experiment(experiment_name, tags={'mlflow.note.content':experiment_description})\n",
    "    exp = mlflow.get_experiment(exp_id)\n",
    "except MlflowException as e:\n",
    "    exp = mlflow.get_experiment_by_name(experiment_name)\n",
    "    exp_id = exp.experiment_id\n",
    "\n",
    "print('experiment_name:', experiment_name)\n",
    "print('experiment_id:', exp_id)"
   ]
  },
  {
   "cell_type": "code",
   "execution_count": 4,
   "metadata": {},
   "outputs": [],
   "source": [
    "start = ([0.,-9.9],[9.9,-5.])\n",
    "goals = [([-9.,8.],[-8.,9.])]\n",
    "env_params= env_params = {\n",
    "    'walls': [([-8.,-1.],[10., 1.]), ([-1.,-8.],[1., 8.])],\n",
    "    'goals': [([2.,2.],[3.,3.])],\n",
    "    'start': ([7.,-9.9],[9.9,-7.]),\n",
    "    'gates': [([-1.,-10.],[1., -8.]), ([-10.,-1.],[-8., 1.]), ([-1.,8.],[1., 10.])],\n",
    "    'buttons': [([2.,-3.],[3.,-2.]), ([-3.,-3.],[-2.,-2.]), ([-3.,2.],[-2.,3.])],\n",
    "    'beta': lambda s: (s[0]>0 and s[1]<0) or (s[0]<0 and s[1]>0)\n",
    "}\n",
    "model_params = {\n",
    "    \"lr\":1e-6, \n",
    "    'momentum':.9,\n",
    "    'td_model_steps': 10, \n",
    "    'memory_size': 0, \n",
    "    'max_plan_size': 100, \n",
    "}\n",
    "k_model_params = {\n",
    "    'k':5, \n",
    "    'model': Model\n",
    "}\n",
    "general_params = {\n",
    "    'model': GeneralModel\n",
    "}"
   ]
  },
  {
   "cell_type": "code",
   "execution_count": 5,
   "metadata": {},
   "outputs": [],
   "source": [
    "def gen_env():\n",
    "    mlflow.log_params(env_params)\n",
    "    env = NormalMoveGatedEnv(**env_params)\n",
    "    mlflow.log_figure(env.plot().get_figure(), f\"env.png\")\n",
    "    return env\n",
    "\n",
    "def run(model, params, episode_size_limit=1000):\n",
    "    model.reset()\n",
    "    mlflow.log_params(model_params)\n",
    "    mlflow.log_params(params)\n",
    "    model.episode(size_limit=episode_size_limit)\n",
    "    \n",
    "    mlflow.log_figure(model.plot(kind='probs'), \"probs.png\")\n",
    "    mlflow.log_figure(model.plot(), \"params.png\")\n",
    "    for plan_id, plan in enumerate(model.plans):\n",
    "        mlflow.log_figure(model.plot(kind='plan', plan=plan_id), f\"plans/plan-{plan_id:03d}.png\")\n",
    "\n",
    "    mlflow.log_metric(\"Trajectory Size\", model.trajectory.run.shape[0])\n",
    "    mlflow.log_metric(\"Final Likelyhood\", model.lls[-1])"
   ]
  },
  {
   "cell_type": "code",
   "execution_count": 6,
   "metadata": {},
   "outputs": [
    {
     "name": "stderr",
     "output_type": "stream",
     "text": [
      "C:\\Users\\guilherme.albarrans\\Workspace\\kmbrl\\src\\rl.py:321: RuntimeWarning: More than 20 figures have been opened. Figures created through the pyplot interface (`matplotlib.pyplot.figure`) are retained until explicitly closed and may consume too much memory. (To control this warning, see the rcParam `figure.max_open_warning`). Consider using `matplotlib.pyplot.close()`.\n",
      "  fig, ax = plt.subplots(figsize=(5, 5))\n"
     ]
    },
    {
     "ename": "KeyboardInterrupt",
     "evalue": "",
     "output_type": "error",
     "traceback": [
      "\u001b[1;31m---------------------------------------------------------------------------\u001b[0m",
      "\u001b[1;31mKeyboardInterrupt\u001b[0m                         Traceback (most recent call last)",
      "Cell \u001b[1;32mIn[6], line 17\u001b[0m\n\u001b[0;32m     15\u001b[0m mlflow\u001b[38;5;241m.\u001b[39mlog_param(\u001b[38;5;124m\"\u001b[39m\u001b[38;5;124mepisode\u001b[39m\u001b[38;5;124m\"\u001b[39m, e)\n\u001b[0;32m     16\u001b[0m mlflow\u001b[38;5;241m.\u001b[39mlog_figure(env\u001b[38;5;241m.\u001b[39mplot()\u001b[38;5;241m.\u001b[39mget_figure(), \u001b[38;5;124mf\u001b[39m\u001b[38;5;124m\"\u001b[39m\u001b[38;5;124menv.png\u001b[39m\u001b[38;5;124m\"\u001b[39m)\n\u001b[1;32m---> 17\u001b[0m \u001b[43mrun\u001b[49m\u001b[43m(\u001b[49m\u001b[43mgeneral\u001b[49m\u001b[43m,\u001b[49m\u001b[43m \u001b[49m\u001b[43mgeneral_params\u001b[49m\u001b[43m)\u001b[49m\n",
      "Cell \u001b[1;32mIn[5], line 11\u001b[0m, in \u001b[0;36mrun\u001b[1;34m(model, params, episode_size_limit)\u001b[0m\n\u001b[0;32m      9\u001b[0m mlflow\u001b[38;5;241m.\u001b[39mlog_params(model_params)\n\u001b[0;32m     10\u001b[0m mlflow\u001b[38;5;241m.\u001b[39mlog_params(params)\n\u001b[1;32m---> 11\u001b[0m \u001b[43mmodel\u001b[49m\u001b[38;5;241;43m.\u001b[39;49m\u001b[43mepisode\u001b[49m\u001b[43m(\u001b[49m\u001b[43msize_limit\u001b[49m\u001b[38;5;241;43m=\u001b[39;49m\u001b[43mepisode_size_limit\u001b[49m\u001b[43m)\u001b[49m\n\u001b[0;32m     13\u001b[0m mlflow\u001b[38;5;241m.\u001b[39mlog_figure(model\u001b[38;5;241m.\u001b[39mplot(kind\u001b[38;5;241m=\u001b[39m\u001b[38;5;124m'\u001b[39m\u001b[38;5;124mprobs\u001b[39m\u001b[38;5;124m'\u001b[39m), \u001b[38;5;124m\"\u001b[39m\u001b[38;5;124mprobs.png\u001b[39m\u001b[38;5;124m\"\u001b[39m)\n\u001b[0;32m     14\u001b[0m mlflow\u001b[38;5;241m.\u001b[39mlog_figure(model\u001b[38;5;241m.\u001b[39mplot(), \u001b[38;5;124m\"\u001b[39m\u001b[38;5;124mparams.png\u001b[39m\u001b[38;5;124m\"\u001b[39m)\n",
      "File \u001b[1;32m~\\Workspace\\kmbrl\\src\\rl.py:271\u001b[0m, in \u001b[0;36mAgent.episode\u001b[1;34m(self, size_limit, log)\u001b[0m\n\u001b[0;32m    267\u001b[0m     \u001b[38;5;28mprint\u001b[39m(S)\n\u001b[0;32m    269\u001b[0m \u001b[38;5;28;01mwhile\u001b[39;00m \u001b[38;5;129;01mnot\u001b[39;00m terminated:\n\u001b[0;32m    270\u001b[0m     \u001b[38;5;66;03m# take action\u001b[39;00m\n\u001b[1;32m--> 271\u001b[0m     A \u001b[38;5;241m=\u001b[39m \u001b[38;5;28;43mself\u001b[39;49m\u001b[38;5;241;43m.\u001b[39;49m\u001b[43mplan\u001b[49m\u001b[43m(\u001b[49m\u001b[43mS\u001b[49m\u001b[43m)\u001b[49m\n\u001b[0;32m    272\u001b[0m     S_, R, terminated \u001b[38;5;241m=\u001b[39m \u001b[38;5;28mself\u001b[39m\u001b[38;5;241m.\u001b[39menv\u001b[38;5;241m.\u001b[39mstep(A)\n\u001b[0;32m    273\u001b[0m     trajectory\u001b[38;5;241m.\u001b[39mstep(step, S, A, R, S_, terminated)\n",
      "File \u001b[1;32m~\\Workspace\\kmbrl\\src\\rl.py:222\u001b[0m, in \u001b[0;36mAgent.plan\u001b[1;34m(self, s)\u001b[0m\n\u001b[0;32m    220\u001b[0m \u001b[38;5;28mself\u001b[39m\u001b[38;5;241m.\u001b[39mplan_step \u001b[38;5;241m=\u001b[39m \u001b[38;5;241m0\u001b[39m\n\u001b[0;32m    221\u001b[0m plan_tree \u001b[38;5;241m=\u001b[39m RRT(s, transition, goal_dist)\n\u001b[1;32m--> 222\u001b[0m \u001b[43mplan_tree\u001b[49m\u001b[38;5;241;43m.\u001b[39;49m\u001b[43mexplore\u001b[49m\u001b[43m(\u001b[49m\u001b[43mmax_iterations\u001b[49m\u001b[38;5;241;43m=\u001b[39;49m\u001b[38;5;28;43mself\u001b[39;49m\u001b[38;5;241;43m.\u001b[39;49m\u001b[43mmax_plan_size\u001b[49m\u001b[43m)\u001b[49m\n\u001b[0;32m    224\u001b[0m \u001b[38;5;28;01mif\u001b[39;00m \u001b[38;5;129;01mnot\u001b[39;00m(\u001b[38;5;28mhasattr\u001b[39m(\u001b[38;5;28mself\u001b[39m\u001b[38;5;241m.\u001b[39menv, \u001b[38;5;124m'\u001b[39m\u001b[38;5;124mpressed_buttons\u001b[39m\u001b[38;5;124m'\u001b[39m)) \u001b[38;5;129;01mor\u001b[39;00m \u001b[38;5;28mall\u001b[39m(\u001b[38;5;28mself\u001b[39m\u001b[38;5;241m.\u001b[39menv\u001b[38;5;241m.\u001b[39mpressed_buttons): \n\u001b[0;32m    225\u001b[0m     closest_goal \u001b[38;5;241m=\u001b[39m np\u001b[38;5;241m.\u001b[39margmin(np\u001b[38;5;241m.\u001b[39marray([np\u001b[38;5;241m.\u001b[39mlinalg\u001b[38;5;241m.\u001b[39mnorm(goal\u001b[38;5;241m.\u001b[39mlow\u001b[38;5;241m-\u001b[39ms) \u001b[38;5;28;01mfor\u001b[39;00m goal \u001b[38;5;129;01min\u001b[39;00m \u001b[38;5;28mself\u001b[39m\u001b[38;5;241m.\u001b[39menv\u001b[38;5;241m.\u001b[39mgoals]))\n",
      "File \u001b[1;32m~\\Workspace\\kmbrl\\src\\rl.py:91\u001b[0m, in \u001b[0;36mRRT.explore\u001b[1;34m(self, max_iterations, node)\u001b[0m\n\u001b[0;32m     89\u001b[0m new_node \u001b[38;5;241m=\u001b[39m \u001b[38;5;28mself\u001b[39m\u001b[38;5;241m.\u001b[39mextend(old_node, move, \u001b[38;5;28mself\u001b[39m\u001b[38;5;241m.\u001b[39mactions[i])\n\u001b[0;32m     90\u001b[0m \u001b[38;5;28;01mif\u001b[39;00m new_node \u001b[38;5;129;01mis\u001b[39;00m \u001b[38;5;129;01mnot\u001b[39;00m \u001b[38;5;28;01mNone\u001b[39;00m \u001b[38;5;129;01mand\u001b[39;00m \u001b[38;5;28mself\u001b[39m\u001b[38;5;241m.\u001b[39mgoal_dist(move) \u001b[38;5;241m>\u001b[39m \u001b[38;5;241m0.1\u001b[39m:\n\u001b[1;32m---> 91\u001b[0m     \u001b[38;5;28;43mself\u001b[39;49m\u001b[38;5;241;43m.\u001b[39;49m\u001b[43mexplore\u001b[49m\u001b[43m(\u001b[49m\u001b[43mmax_iterations\u001b[49m\u001b[38;5;241;43m-\u001b[39;49m\u001b[38;5;241;43m1\u001b[39;49m\u001b[43m,\u001b[49m\u001b[43m \u001b[49m\u001b[43mnew_node\u001b[49m\u001b[43m)\u001b[49m\n",
      "File \u001b[1;32m~\\Workspace\\kmbrl\\src\\rl.py:91\u001b[0m, in \u001b[0;36mRRT.explore\u001b[1;34m(self, max_iterations, node)\u001b[0m\n\u001b[0;32m     89\u001b[0m new_node \u001b[38;5;241m=\u001b[39m \u001b[38;5;28mself\u001b[39m\u001b[38;5;241m.\u001b[39mextend(old_node, move, \u001b[38;5;28mself\u001b[39m\u001b[38;5;241m.\u001b[39mactions[i])\n\u001b[0;32m     90\u001b[0m \u001b[38;5;28;01mif\u001b[39;00m new_node \u001b[38;5;129;01mis\u001b[39;00m \u001b[38;5;129;01mnot\u001b[39;00m \u001b[38;5;28;01mNone\u001b[39;00m \u001b[38;5;129;01mand\u001b[39;00m \u001b[38;5;28mself\u001b[39m\u001b[38;5;241m.\u001b[39mgoal_dist(move) \u001b[38;5;241m>\u001b[39m \u001b[38;5;241m0.1\u001b[39m:\n\u001b[1;32m---> 91\u001b[0m     \u001b[38;5;28;43mself\u001b[39;49m\u001b[38;5;241;43m.\u001b[39;49m\u001b[43mexplore\u001b[49m\u001b[43m(\u001b[49m\u001b[43mmax_iterations\u001b[49m\u001b[38;5;241;43m-\u001b[39;49m\u001b[38;5;241;43m1\u001b[39;49m\u001b[43m,\u001b[49m\u001b[43m \u001b[49m\u001b[43mnew_node\u001b[49m\u001b[43m)\u001b[49m\n",
      "    \u001b[1;31m[... skipping similar frames: RRT.explore at line 91 (96 times)]\u001b[0m\n",
      "File \u001b[1;32m~\\Workspace\\kmbrl\\src\\rl.py:91\u001b[0m, in \u001b[0;36mRRT.explore\u001b[1;34m(self, max_iterations, node)\u001b[0m\n\u001b[0;32m     89\u001b[0m new_node \u001b[38;5;241m=\u001b[39m \u001b[38;5;28mself\u001b[39m\u001b[38;5;241m.\u001b[39mextend(old_node, move, \u001b[38;5;28mself\u001b[39m\u001b[38;5;241m.\u001b[39mactions[i])\n\u001b[0;32m     90\u001b[0m \u001b[38;5;28;01mif\u001b[39;00m new_node \u001b[38;5;129;01mis\u001b[39;00m \u001b[38;5;129;01mnot\u001b[39;00m \u001b[38;5;28;01mNone\u001b[39;00m \u001b[38;5;129;01mand\u001b[39;00m \u001b[38;5;28mself\u001b[39m\u001b[38;5;241m.\u001b[39mgoal_dist(move) \u001b[38;5;241m>\u001b[39m \u001b[38;5;241m0.1\u001b[39m:\n\u001b[1;32m---> 91\u001b[0m     \u001b[38;5;28;43mself\u001b[39;49m\u001b[38;5;241;43m.\u001b[39;49m\u001b[43mexplore\u001b[49m\u001b[43m(\u001b[49m\u001b[43mmax_iterations\u001b[49m\u001b[38;5;241;43m-\u001b[39;49m\u001b[38;5;241;43m1\u001b[39;49m\u001b[43m,\u001b[49m\u001b[43m \u001b[49m\u001b[43mnew_node\u001b[49m\u001b[43m)\u001b[49m\n",
      "File \u001b[1;32m~\\Workspace\\kmbrl\\src\\rl.py:89\u001b[0m, in \u001b[0;36mRRT.explore\u001b[1;34m(self, max_iterations, node)\u001b[0m\n\u001b[0;32m     87\u001b[0m moves \u001b[38;5;241m=\u001b[39m [\u001b[38;5;28mself\u001b[39m\u001b[38;5;241m.\u001b[39mtransition(old_node\u001b[38;5;241m.\u001b[39mvalue, a) \u001b[38;5;28;01mfor\u001b[39;00m a \u001b[38;5;129;01min\u001b[39;00m \u001b[38;5;28mself\u001b[39m\u001b[38;5;241m.\u001b[39mactions]\n\u001b[0;32m     88\u001b[0m \u001b[38;5;28;01mfor\u001b[39;00m i,move \u001b[38;5;129;01min\u001b[39;00m \u001b[38;5;28menumerate\u001b[39m(moves):\n\u001b[1;32m---> 89\u001b[0m     new_node \u001b[38;5;241m=\u001b[39m \u001b[38;5;28;43mself\u001b[39;49m\u001b[38;5;241;43m.\u001b[39;49m\u001b[43mextend\u001b[49m\u001b[43m(\u001b[49m\u001b[43mold_node\u001b[49m\u001b[43m,\u001b[49m\u001b[43m \u001b[49m\u001b[43mmove\u001b[49m\u001b[43m,\u001b[49m\u001b[43m \u001b[49m\u001b[38;5;28;43mself\u001b[39;49m\u001b[38;5;241;43m.\u001b[39;49m\u001b[43mactions\u001b[49m\u001b[43m[\u001b[49m\u001b[43mi\u001b[49m\u001b[43m]\u001b[49m\u001b[43m)\u001b[49m\n\u001b[0;32m     90\u001b[0m     \u001b[38;5;28;01mif\u001b[39;00m new_node \u001b[38;5;129;01mis\u001b[39;00m \u001b[38;5;129;01mnot\u001b[39;00m \u001b[38;5;28;01mNone\u001b[39;00m \u001b[38;5;129;01mand\u001b[39;00m \u001b[38;5;28mself\u001b[39m\u001b[38;5;241m.\u001b[39mgoal_dist(move) \u001b[38;5;241m>\u001b[39m \u001b[38;5;241m0.1\u001b[39m:\n\u001b[0;32m     91\u001b[0m         \u001b[38;5;28mself\u001b[39m\u001b[38;5;241m.\u001b[39mexplore(max_iterations\u001b[38;5;241m-\u001b[39m\u001b[38;5;241m1\u001b[39m, new_node)\n",
      "File \u001b[1;32m~\\Workspace\\kmbrl\\src\\rl.py:117\u001b[0m, in \u001b[0;36mRRT.extend\u001b[1;34m(self, from_node, to_point, action)\u001b[0m\n\u001b[0;32m    116\u001b[0m \u001b[38;5;28;01mdef\u001b[39;00m \u001b[38;5;21mextend\u001b[39m(\u001b[38;5;28mself\u001b[39m, from_node, to_point, action):\n\u001b[1;32m--> 117\u001b[0m     nearest_node \u001b[38;5;241m=\u001b[39m \u001b[38;5;28;43mself\u001b[39;49m\u001b[38;5;241;43m.\u001b[39;49m\u001b[43mfind_nearest\u001b[49m\u001b[43m(\u001b[49m\u001b[43mto_point\u001b[49m\u001b[43m)\u001b[49m\n\u001b[0;32m    118\u001b[0m     other_node_dist \u001b[38;5;241m=\u001b[39m np\u001b[38;5;241m.\u001b[39mlinalg\u001b[38;5;241m.\u001b[39mnorm(np\u001b[38;5;241m.\u001b[39marray(nearest_node\u001b[38;5;241m.\u001b[39mvalue)\u001b[38;5;241m-\u001b[39mnp\u001b[38;5;241m.\u001b[39marray(to_point))\n\u001b[0;32m    119\u001b[0m     move_dist \u001b[38;5;241m=\u001b[39m np\u001b[38;5;241m.\u001b[39mlinalg\u001b[38;5;241m.\u001b[39mnorm(np\u001b[38;5;241m.\u001b[39marray(to_point)\u001b[38;5;241m-\u001b[39mnp\u001b[38;5;241m.\u001b[39marray(from_node\u001b[38;5;241m.\u001b[39mvalue))\n",
      "File \u001b[1;32m~\\Workspace\\kmbrl\\src\\rl.py:109\u001b[0m, in \u001b[0;36mRRT.find_nearest\u001b[1;34m(self, point, tree)\u001b[0m\n\u001b[0;32m    107\u001b[0m best_distance \u001b[38;5;241m=\u001b[39m np\u001b[38;5;241m.\u001b[39mlinalg\u001b[38;5;241m.\u001b[39mnorm(np\u001b[38;5;241m.\u001b[39marray(best\u001b[38;5;241m.\u001b[39mvalue) \u001b[38;5;241m-\u001b[39m np\u001b[38;5;241m.\u001b[39marray(point))\n\u001b[0;32m    108\u001b[0m \u001b[38;5;28;01mfor\u001b[39;00m child \u001b[38;5;129;01min\u001b[39;00m node\u001b[38;5;241m.\u001b[39mchildren:\n\u001b[1;32m--> 109\u001b[0m     node \u001b[38;5;241m=\u001b[39m \u001b[38;5;28;43mself\u001b[39;49m\u001b[38;5;241;43m.\u001b[39;49m\u001b[43mfind_nearest\u001b[49m\u001b[43m(\u001b[49m\u001b[43mpoint\u001b[49m\u001b[43m,\u001b[49m\u001b[43m \u001b[49m\u001b[43mchild\u001b[49m\u001b[43m)\u001b[49m\n\u001b[0;32m    110\u001b[0m     distance \u001b[38;5;241m=\u001b[39m np\u001b[38;5;241m.\u001b[39mlinalg\u001b[38;5;241m.\u001b[39mnorm(np\u001b[38;5;241m.\u001b[39marray(node\u001b[38;5;241m.\u001b[39mvalue) \u001b[38;5;241m-\u001b[39m np\u001b[38;5;241m.\u001b[39marray(point))\n\u001b[0;32m    111\u001b[0m     \u001b[38;5;28;01mif\u001b[39;00m distance \u001b[38;5;241m<\u001b[39m best_distance:\n",
      "File \u001b[1;32m~\\Workspace\\kmbrl\\src\\rl.py:109\u001b[0m, in \u001b[0;36mRRT.find_nearest\u001b[1;34m(self, point, tree)\u001b[0m\n\u001b[0;32m    107\u001b[0m best_distance \u001b[38;5;241m=\u001b[39m np\u001b[38;5;241m.\u001b[39mlinalg\u001b[38;5;241m.\u001b[39mnorm(np\u001b[38;5;241m.\u001b[39marray(best\u001b[38;5;241m.\u001b[39mvalue) \u001b[38;5;241m-\u001b[39m np\u001b[38;5;241m.\u001b[39marray(point))\n\u001b[0;32m    108\u001b[0m \u001b[38;5;28;01mfor\u001b[39;00m child \u001b[38;5;129;01min\u001b[39;00m node\u001b[38;5;241m.\u001b[39mchildren:\n\u001b[1;32m--> 109\u001b[0m     node \u001b[38;5;241m=\u001b[39m \u001b[38;5;28;43mself\u001b[39;49m\u001b[38;5;241;43m.\u001b[39;49m\u001b[43mfind_nearest\u001b[49m\u001b[43m(\u001b[49m\u001b[43mpoint\u001b[49m\u001b[43m,\u001b[49m\u001b[43m \u001b[49m\u001b[43mchild\u001b[49m\u001b[43m)\u001b[49m\n\u001b[0;32m    110\u001b[0m     distance \u001b[38;5;241m=\u001b[39m np\u001b[38;5;241m.\u001b[39mlinalg\u001b[38;5;241m.\u001b[39mnorm(np\u001b[38;5;241m.\u001b[39marray(node\u001b[38;5;241m.\u001b[39mvalue) \u001b[38;5;241m-\u001b[39m np\u001b[38;5;241m.\u001b[39marray(point))\n\u001b[0;32m    111\u001b[0m     \u001b[38;5;28;01mif\u001b[39;00m distance \u001b[38;5;241m<\u001b[39m best_distance:\n",
      "    \u001b[1;31m[... skipping similar frames: RRT.find_nearest at line 109 (96 times)]\u001b[0m\n",
      "File \u001b[1;32m~\\Workspace\\kmbrl\\src\\rl.py:109\u001b[0m, in \u001b[0;36mRRT.find_nearest\u001b[1;34m(self, point, tree)\u001b[0m\n\u001b[0;32m    107\u001b[0m best_distance \u001b[38;5;241m=\u001b[39m np\u001b[38;5;241m.\u001b[39mlinalg\u001b[38;5;241m.\u001b[39mnorm(np\u001b[38;5;241m.\u001b[39marray(best\u001b[38;5;241m.\u001b[39mvalue) \u001b[38;5;241m-\u001b[39m np\u001b[38;5;241m.\u001b[39marray(point))\n\u001b[0;32m    108\u001b[0m \u001b[38;5;28;01mfor\u001b[39;00m child \u001b[38;5;129;01min\u001b[39;00m node\u001b[38;5;241m.\u001b[39mchildren:\n\u001b[1;32m--> 109\u001b[0m     node \u001b[38;5;241m=\u001b[39m \u001b[38;5;28;43mself\u001b[39;49m\u001b[38;5;241;43m.\u001b[39;49m\u001b[43mfind_nearest\u001b[49m\u001b[43m(\u001b[49m\u001b[43mpoint\u001b[49m\u001b[43m,\u001b[49m\u001b[43m \u001b[49m\u001b[43mchild\u001b[49m\u001b[43m)\u001b[49m\n\u001b[0;32m    110\u001b[0m     distance \u001b[38;5;241m=\u001b[39m np\u001b[38;5;241m.\u001b[39mlinalg\u001b[38;5;241m.\u001b[39mnorm(np\u001b[38;5;241m.\u001b[39marray(node\u001b[38;5;241m.\u001b[39mvalue) \u001b[38;5;241m-\u001b[39m np\u001b[38;5;241m.\u001b[39marray(point))\n\u001b[0;32m    111\u001b[0m     \u001b[38;5;28;01mif\u001b[39;00m distance \u001b[38;5;241m<\u001b[39m best_distance:\n",
      "File \u001b[1;32m~\\Workspace\\kmbrl\\src\\rl.py:107\u001b[0m, in \u001b[0;36mRRT.find_nearest\u001b[1;34m(self, point, tree)\u001b[0m\n\u001b[0;32m    105\u001b[0m node \u001b[38;5;241m=\u001b[39m tree \u001b[38;5;129;01mor\u001b[39;00m \u001b[38;5;28mself\u001b[39m\u001b[38;5;241m.\u001b[39mtree\n\u001b[0;32m    106\u001b[0m best \u001b[38;5;241m=\u001b[39m node\n\u001b[1;32m--> 107\u001b[0m best_distance \u001b[38;5;241m=\u001b[39m np\u001b[38;5;241m.\u001b[39mlinalg\u001b[38;5;241m.\u001b[39mnorm(\u001b[43mnp\u001b[49m\u001b[38;5;241;43m.\u001b[39;49m\u001b[43marray\u001b[49m\u001b[43m(\u001b[49m\u001b[43mbest\u001b[49m\u001b[38;5;241;43m.\u001b[39;49m\u001b[43mvalue\u001b[49m\u001b[43m)\u001b[49m \u001b[38;5;241m-\u001b[39m np\u001b[38;5;241m.\u001b[39marray(point))\n\u001b[0;32m    108\u001b[0m \u001b[38;5;28;01mfor\u001b[39;00m child \u001b[38;5;129;01min\u001b[39;00m node\u001b[38;5;241m.\u001b[39mchildren:\n\u001b[0;32m    109\u001b[0m     node \u001b[38;5;241m=\u001b[39m \u001b[38;5;28mself\u001b[39m\u001b[38;5;241m.\u001b[39mfind_nearest(point, child)\n",
      "\u001b[1;31mKeyboardInterrupt\u001b[0m: "
     ]
    },
    {
     "ename": "",
     "evalue": "",
     "output_type": "error",
     "traceback": [
      "\u001b[1;31mThe Kernel crashed while executing code in the the current cell or a previous cell. Please review the code in the cell(s) to identify a possible cause of the failure. Click <a href='https://aka.ms/vscodeJupyterKernelCrash'>here</a> for more info. View Jupyter <a href='command:jupyter.viewOutput'>log</a> for further details."
     ]
    }
   ],
   "source": [
    "for i in range(num_runs):\n",
    "    with mlflow.start_run(experiment_id=exp_id, run_name=f'{i}'):\n",
    "        env = gen_env()\n",
    "        k_models = Agent(env, **k_model_params, **model_params)\n",
    "        general = Agent(env, **general_params, **model_params)\n",
    "        for e in range(num_episodes):\n",
    "            with mlflow.start_run(experiment_id=exp_id, run_name=f'epi-{e}', nested=True):\n",
    "                with mlflow.start_run(experiment_id=exp_id, run_name='K-Models', nested=True):\n",
    "                    mlflow.log_param(\"run\", i)\n",
    "                    mlflow.log_param(\"episode\", e)\n",
    "                    mlflow.log_figure(env.plot().get_figure(), f\"env.png\")\n",
    "                    run(k_models, k_model_params)\n",
    "                with mlflow.start_run(experiment_id=exp_id, run_name='General', nested=True):\n",
    "                    mlflow.log_param(\"run\", i)\n",
    "                    mlflow.log_param(\"episode\", e)\n",
    "                    mlflow.log_figure(env.plot().get_figure(), f\"env.png\")\n",
    "                    run(general, general_params)"
   ]
  }
 ],
 "metadata": {
  "kernelspec": {
   "display_name": "RL",
   "language": "python",
   "name": "python3"
  },
  "language_info": {
   "codemirror_mode": {
    "name": "ipython",
    "version": 3
   },
   "file_extension": ".py",
   "mimetype": "text/x-python",
   "name": "python",
   "nbconvert_exporter": "python",
   "pygments_lexer": "ipython3",
   "version": "3.9.13"
  },
  "orig_nbformat": 4
 },
 "nbformat": 4,
 "nbformat_minor": 2
}

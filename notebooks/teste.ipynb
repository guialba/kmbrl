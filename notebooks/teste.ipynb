{
 "cells": [
  {
   "cell_type": "code",
   "execution_count": 201,
   "metadata": {},
   "outputs": [],
   "source": [
    "import torch\n",
    "import torch.nn as nn\n",
    "from torch.distributions import Normal, MixtureSameFamily, Categorical"
   ]
  },
  {
   "cell_type": "markdown",
   "metadata": {},
   "source": [
    "# Generate Data"
   ]
  },
  {
   "cell_type": "code",
   "execution_count": 266,
   "metadata": {},
   "outputs": [
    {
     "data": {
      "text/plain": [
       "tensor([-2.3026, -0.1054])"
      ]
     },
     "execution_count": 266,
     "metadata": {},
     "output_type": "execute_result"
    }
   ],
   "source": [
    "Categorical(torch.tensor([.1,.9]))"
   ]
  },
  {
   "cell_type": "code",
   "execution_count": 301,
   "metadata": {},
   "outputs": [
    {
     "data": {
      "text/plain": [
       "tensor([7.9391e-01, 9.6103e-22])"
      ]
     },
     "execution_count": 301,
     "metadata": {},
     "output_type": "execute_result"
    },
    {
     "ename": "",
     "evalue": "",
     "output_type": "error",
     "traceback": [
      "\u001b[1;31mThe Kernel crashed while executing code in the the current cell or a previous cell. Please review the code in the cell(s) to identify a possible cause of the failure. Click <a href='https://aka.ms/vscodeJupyterKernelCrash'>here</a> for more info. View Jupyter <a href='command:jupyter.viewOutput'>log</a> for further details."
     ]
    }
   ],
   "source": [
    "X = torch.tensor(4.95)\n",
    "mix = Categorical(torch.tensor([.1,.9]))\n",
    "comp = Normal(torch.tensor([5,100]), torch.tensor([.5, 10]))\n",
    "gmm = MixtureSameFamily(mix, comp)\n",
    "# torch.exp(gmm.log_prob(X))\n",
    "torch.exp(gmm.component_distribution.log_prob(X))"
   ]
  },
  {
   "cell_type": "code",
   "execution_count": 299,
   "metadata": {},
   "outputs": [
    {
     "data": {
      "text/plain": [
       "tensor(39.8942)"
      ]
     },
     "execution_count": 299,
     "metadata": {},
     "output_type": "execute_result"
    }
   ],
   "source": [
    "X = torch.tensor(5.)\n",
    "# torch.exp(Normal(torch.tensor([5,100]), torch.tensor([.1, 10])).log_prob(X))\n",
    "torch.exp(Normal(torch.tensor(5.), torch.tensor(.01)).log_prob(X))"
   ]
  },
  {
   "cell_type": "code",
   "execution_count": 239,
   "metadata": {},
   "outputs": [
    {
     "data": {
      "text/plain": [
       "tensor([[15.9911],\n",
       "        [ 8.8948],\n",
       "        [ 6.6468],\n",
       "        [14.0990],\n",
       "        [14.1473],\n",
       "        [10.1454],\n",
       "        [ 9.3467],\n",
       "        [ 6.2313],\n",
       "        [ 6.1152],\n",
       "        [16.6622]], dtype=torch.float64)"
      ]
     },
     "execution_count": 239,
     "metadata": {},
     "output_type": "execute_result"
    }
   ],
   "source": [
    "\n",
    "dist = Normal(torch.Tensor([10]), torch.Tensor([3]))\n",
    "X = dist.sample((10,)).double()\n",
    "X"
   ]
  },
  {
   "cell_type": "code",
   "execution_count": 240,
   "metadata": {},
   "outputs": [],
   "source": [
    "class CustomLayer(nn.Module):\n",
    "    def __init__(self): \n",
    "        super().__init__()\n",
    "\n",
    "    def forward(self, input_features):\n",
    "        output = torch.stack([input_features[:,0], torch.exp(input_features[:,1])], dim=1)\n",
    "        return output\n",
    "\n",
    "input_layer, out_layer, mid_layer = 1, 2, 10\n",
    "seletor = nn.Sequential(\n",
    "    nn.Linear(input_layer, mid_layer).double(),\n",
    "    nn.ReLU(),\n",
    "    nn.Linear(mid_layer, mid_layer).double(),\n",
    "    nn.ReLU(),\n",
    "    nn.Linear(mid_layer, out_layer).double(),\n",
    "    CustomLayer()\n",
    ")"
   ]
  },
  {
   "cell_type": "code",
   "execution_count": 261,
   "metadata": {},
   "outputs": [
    {
     "name": "stdout",
     "output_type": "stream",
     "text": [
      "tensor(27.7175, dtype=torch.float64, grad_fn=<NegBackward0>)\n",
      "tensor([[10.8121,  3.8683],\n",
      "        [10.8121,  3.8683],\n",
      "        [10.8121,  3.8683],\n",
      "        [10.8121,  3.8683],\n",
      "        [10.8121,  3.8683],\n",
      "        [10.8121,  3.8683],\n",
      "        [10.8121,  3.8683],\n",
      "        [10.8121,  3.8683],\n",
      "        [10.8121,  3.8683],\n",
      "        [10.8121,  3.8683]], dtype=torch.float64, grad_fn=<StackBackward0>)\n"
     ]
    }
   ],
   "source": [
    "def train(model, data, epochs=1000, log=False):\n",
    "    optim = torch.optim.SGD(list(model.parameters()), lr=1e-4, momentum=.9)\n",
    "    model.train(True)\n",
    "    \n",
    "    for epoch in range(epochs):\n",
    "        optim.zero_grad()\n",
    "        outputs = model(data)\n",
    "\n",
    "        # loss\n",
    "        mix = Categorical(torch.ones(outputs.shape[0]))\n",
    "        comp = Normal(outputs[:,0], outputs[:,1])\n",
    "        gmm = MixtureSameFamily(mix, comp)\n",
    "        loss = -torch.sum(gmm.log_prob(data))\n",
    "        ##\n",
    "        \n",
    "        if log:\n",
    "            print(epoch, loss.item())\n",
    "\n",
    "        loss.backward()\n",
    "        optim.step() \n",
    "    model.train(False)\n",
    "    return loss\n",
    "\n",
    "\n",
    "loss = train(model=seletor, data=X)\n",
    "print(loss)\n",
    "est = seletor(X)\n",
    "print(est)\n",
    "# print(torch.exp(est[:,1]))\n"
   ]
  },
  {
   "cell_type": "code",
   "execution_count": null,
   "metadata": {},
   "outputs": [],
   "source": []
  },
  {
   "cell_type": "code",
   "execution_count": null,
   "metadata": {},
   "outputs": [],
   "source": []
  },
  {
   "cell_type": "code",
   "execution_count": 200,
   "metadata": {},
   "outputs": [
    {
     "data": {
      "text/plain": [
       "tensor(0.0499)"
      ]
     },
     "execution_count": 200,
     "metadata": {},
     "output_type": "execute_result"
    }
   ],
   "source": [
    "from torch.distributions import Normal, MixtureSameFamily, Categorical\n",
    "\n",
    "x = torch.tensor(0)\n",
    "# x = torch.tensor(10)\n",
    "# x = torch.Tensor([0])\n",
    "# x = torch.Tensor([0, 10, 12, -1, 5])\n",
    "# x = torch.Tensor([[0, 10, 12, -1], [0, 10, 12, -1]])\n",
    "# x = torch.Tensor([[0, 0], [10, 10], [12,12], [-1,-1]])\n",
    "\n",
    "mix = Categorical(torch.Tensor([.1, .7]))\n",
    "# mix = Categorical(torch.Tensor([.7, .7]))\n",
    "comp = Normal(torch.Tensor([0, 10]), torch.Tensor([1, 1]))\n",
    "gmm = MixtureSameFamily(mix, comp)\n",
    "\n",
    "torch.exp(gmm.log_prob(x))"
   ]
  },
  {
   "cell_type": "code",
   "execution_count": 193,
   "metadata": {},
   "outputs": [
    {
     "data": {
      "text/plain": [
       "tensor(0.2500)"
      ]
     },
     "execution_count": 193,
     "metadata": {},
     "output_type": "execute_result"
    }
   ],
   "source": [
    "gmm.cdf(x)"
   ]
  },
  {
   "cell_type": "code",
   "execution_count": 168,
   "metadata": {},
   "outputs": [
    {
     "data": {
      "text/plain": [
       "tensor([[ 0.3808],\n",
       "        [-0.9332],\n",
       "        [ 0.9977],\n",
       "        [-0.4279],\n",
       "        [ 0.1079],\n",
       "        [-0.2924],\n",
       "        [-1.2092],\n",
       "        [-0.3668],\n",
       "        [-0.6174],\n",
       "        [-0.6691]])"
      ]
     },
     "execution_count": 168,
     "metadata": {},
     "output_type": "execute_result"
    }
   ],
   "source": [
    "torch.Tensor(10, 1).normal_(0, 1)"
   ]
  },
  {
   "cell_type": "code",
   "execution_count": 185,
   "metadata": {},
   "outputs": [
    {
     "name": "stdout",
     "output_type": "stream",
     "text": [
      "Probabilidades de pertencer a cada componente:\n",
      "Componente 1: 0.2523272931575775\n",
      "Componente 2: 0.2523272931575775\n",
      "Componente 3: 0.2523272931575775\n"
     ]
    }
   ],
   "source": [
    "from torch.distributions import Normal, Categorical, MixtureSameFamily\n",
    "\n",
    "# Defina os parâmetros da mistura gaussiana\n",
    "num_components = 3\n",
    "mixture_probs = torch.tensor([0.3, 0.4, 0.3])  # probabilidades das componentes\n",
    "component_means = torch.tensor([0.0, 2.0, 4.0])  # médias das componentes\n",
    "component_stddevs = torch.tensor([1.0, 0.5, 1.5])  # desvios padrão das componentes\n",
    "\n",
    "# Crie as distribuições normais para as componentes\n",
    "component_distributions = Normal(component_means, component_stddevs)\n",
    "\n",
    "# Crie a distribuição categórica para as misturas\n",
    "mixture_distribution = Categorical(mixture_probs)\n",
    "\n",
    "# Crie a mistura de distribuições\n",
    "gaussian_mixture = MixtureSameFamily(mixture_distribution, component_distributions)\n",
    "\n",
    "# Valor para calcular a probabilidade\n",
    "value = torch.tensor(1.5)\n",
    "\n",
    "# Calcule a log-probabilidade do valor para cada componente\n",
    "log_probs = gaussian_mixture.log_prob(value)\n",
    "\n",
    "# Converta a log-probabilidade para probabilidade\n",
    "probs = torch.exp(log_probs)\n",
    "\n",
    "print(\"Probabilidades de pertencer a cada componente:\")\n",
    "for i in range(num_components):\n",
    "    print(f\"Componente {i+1}: {probs}\")"
   ]
  }
 ],
 "metadata": {
  "kernelspec": {
   "display_name": ".venv",
   "language": "python",
   "name": "python3"
  },
  "language_info": {
   "codemirror_mode": {
    "name": "ipython",
    "version": 3
   },
   "file_extension": ".py",
   "mimetype": "text/x-python",
   "name": "python",
   "nbconvert_exporter": "python",
   "pygments_lexer": "ipython3",
   "version": "3.9.13"
  }
 },
 "nbformat": 4,
 "nbformat_minor": 2
}
